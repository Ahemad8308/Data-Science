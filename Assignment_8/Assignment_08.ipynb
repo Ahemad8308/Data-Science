{
  "nbformat": 4,
  "nbformat_minor": 0,
  "metadata": {
    "colab": {
      "provenance": []
    },
    "kernelspec": {
      "name": "python3",
      "display_name": "Python 3"
    },
    "language_info": {
      "name": "python"
    }
  },
  "cells": [
    {
      "cell_type": "markdown",
      "source": [
        "Import Libraries"
      ],
      "metadata": {
        "id": "ucDGfvxF1FuD"
      }
    },
    {
      "cell_type": "code",
      "execution_count": 24,
      "metadata": {
        "id": "8NiqOPssymLz"
      },
      "outputs": [],
      "source": [
        "import pandas as pd\n",
        "import matplotlib.pyplot as plt\n",
        "import seaborn as sns"
      ]
    },
    {
      "cell_type": "markdown",
      "source": [
        "Load Dataset Train.csv"
      ],
      "metadata": {
        "id": "a23H0EoB1Jxv"
      }
    },
    {
      "cell_type": "code",
      "source": [
        "df=pd.read_csv(\"/train.csv\")"
      ],
      "metadata": {
        "id": "CMKdNmvZyxjc"
      },
      "execution_count": 25,
      "outputs": []
    },
    {
      "cell_type": "markdown",
      "source": [
        "Analysis of Dataset"
      ],
      "metadata": {
        "id": "rhNI_k1f1PRo"
      }
    },
    {
      "cell_type": "code",
      "source": [
        "df.info()"
      ],
      "metadata": {
        "id": "ftTi8LIgzHWd"
      },
      "execution_count": null,
      "outputs": []
    },
    {
      "cell_type": "code",
      "source": [
        "df.head()"
      ],
      "metadata": {
        "id": "e109EkJQzRJ6"
      },
      "execution_count": null,
      "outputs": []
    },
    {
      "cell_type": "code",
      "source": [
        "df.tail()"
      ],
      "metadata": {
        "id": "oO_62hhrzUQl"
      },
      "execution_count": null,
      "outputs": []
    },
    {
      "cell_type": "code",
      "source": [
        "df.count()"
      ],
      "metadata": {
        "id": "ICq2jxcFzXn_"
      },
      "execution_count": null,
      "outputs": []
    },
    {
      "cell_type": "code",
      "source": [
        "df.describe()"
      ],
      "metadata": {
        "id": "nPRvB4XPzaGj"
      },
      "execution_count": null,
      "outputs": []
    },
    {
      "cell_type": "markdown",
      "source": [
        "Checking Null Values"
      ],
      "metadata": {
        "id": "5UXReWEg1YRp"
      }
    },
    {
      "cell_type": "code",
      "source": [
        "df.isnull().sum()"
      ],
      "metadata": {
        "id": "KnX7Pxu9zdCR"
      },
      "execution_count": null,
      "outputs": []
    },
    {
      "cell_type": "code",
      "source": [
        "df"
      ],
      "metadata": {
        "id": "VzV8bV-5zm-c"
      },
      "execution_count": null,
      "outputs": []
    },
    {
      "cell_type": "markdown",
      "source": [
        "Creating new Dataset without null values"
      ],
      "metadata": {
        "id": "ug4iRD7C1dVa"
      }
    },
    {
      "cell_type": "code",
      "source": [
        "df1=df.dropna()"
      ],
      "metadata": {
        "id": "gLUcjS9qzsTJ"
      },
      "execution_count": 33,
      "outputs": []
    },
    {
      "cell_type": "code",
      "source": [
        "df1"
      ],
      "metadata": {
        "id": "vl-g1VcUzxMi"
      },
      "execution_count": null,
      "outputs": []
    },
    {
      "cell_type": "code",
      "source": [
        "df1.isnull().sum()"
      ],
      "metadata": {
        "id": "a1BwXZ97zyqs"
      },
      "execution_count": null,
      "outputs": []
    },
    {
      "cell_type": "markdown",
      "source": [
        "Creating New dataset with some attributes"
      ],
      "metadata": {
        "id": "EXeHJ35R1pZI"
      }
    },
    {
      "cell_type": "code",
      "source": [
        "df2=df1.drop(['Name', 'SibSp','Ticket','Pclass','PassengerId','Parch','Cabin','Embarked'], axis=1)"
      ],
      "metadata": {
        "id": "ekW5NtXCz1tX"
      },
      "execution_count": 36,
      "outputs": []
    },
    {
      "cell_type": "code",
      "source": [
        "df2\n"
      ],
      "metadata": {
        "id": "ZuayfcZZz70o"
      },
      "execution_count": null,
      "outputs": []
    },
    {
      "cell_type": "code",
      "source": [
        "df2.count()"
      ],
      "metadata": {
        "id": "ZqgC7eIrz-Oe"
      },
      "execution_count": null,
      "outputs": []
    },
    {
      "cell_type": "markdown",
      "source": [
        "Plots the Graph"
      ],
      "metadata": {
        "id": "FPK6ikWk1zzX"
      }
    },
    {
      "cell_type": "code",
      "source": [
        "sns.set_theme(style=\"ticks\", color_codes=True)"
      ],
      "metadata": {
        "id": "LROfhNms0C31"
      },
      "execution_count": 43,
      "outputs": []
    },
    {
      "cell_type": "markdown",
      "source": [
        "Plot Graphs using seaborn Library"
      ],
      "metadata": {
        "id": "JGy-4yUK16K2"
      }
    },
    {
      "cell_type": "code",
      "source": [
        "# count plot on single categorical variable\n",
        "sns.countplot(x ='Sex', data = df2)\n",
        "\n",
        "# Show the plot\n",
        "plt.show()"
      ],
      "metadata": {
        "id": "ye6Ek9Kn0Hf5"
      },
      "execution_count": null,
      "outputs": []
    },
    {
      "cell_type": "markdown",
      "source": [],
      "metadata": {
        "id": "6LXkYka72UU4"
      }
    },
    {
      "cell_type": "markdown",
      "source": [
        "Countplot"
      ],
      "metadata": {
        "id": "UJXFEY832YLI"
      }
    },
    {
      "cell_type": "code",
      "source": [
        "sns.countplot(x ='Survived', data = df2)\n",
        "\n",
        "# Show the plot\n",
        "plt.show()"
      ],
      "metadata": {
        "id": "pNXL-yzG0k_r"
      },
      "execution_count": null,
      "outputs": []
    },
    {
      "cell_type": "markdown",
      "source": [
        "Histrogram"
      ],
      "metadata": {
        "id": "-uREUO4I2WjG"
      }
    },
    {
      "cell_type": "code",
      "source": [
        "sns.histplot(df2['Fare'],kde = False)\n",
        "plt.show()"
      ],
      "metadata": {
        "id": "RMKXIbcv0vT9"
      },
      "execution_count": null,
      "outputs": []
    }
  ]
}